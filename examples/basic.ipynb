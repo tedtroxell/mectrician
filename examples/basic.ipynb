{
 "metadata": {
  "language_info": {
   "codemirror_mode": {
    "name": "ipython",
    "version": 3
   },
   "file_extension": ".py",
   "mimetype": "text/x-python",
   "name": "python",
   "nbconvert_exporter": "python",
   "pygments_lexer": "ipython3",
   "version": "3.7.5-final"
  },
  "orig_nbformat": 2,
  "kernelspec": {
   "name": "python3",
   "display_name": "Python 3.7.5 64-bit",
   "metadata": {
    "interpreter": {
     "hash": "fd69f43f58546b570e94fd7eba7b65e6bcc7a5bbc4eab0408017d18902915d69"
    }
   }
  }
 },
 "nbformat": 4,
 "nbformat_minor": 2,
 "cells": [
  {
   "cell_type": "code",
   "execution_count": 1,
   "metadata": {},
   "outputs": [
    {
     "output_type": "error",
     "ename": "IndentationError",
     "evalue": "unexpected indent (OOD.py, line 23)",
     "traceback": [
      "Traceback \u001b[0;36m(most recent call last)\u001b[0m:\n",
      "  File \u001b[1;32m\"/usr/local/lib/python3.7/dist-packages/IPython/core/interactiveshell.py\"\u001b[0m, line \u001b[1;32m3417\u001b[0m, in \u001b[1;35mrun_code\u001b[0m\n    exec(code_obj, self.user_global_ns, self.user_ns)\n",
      "  File \u001b[1;32m\"<ipython-input-1-0e7dbec43089>\"\u001b[0m, line \u001b[1;32m7\u001b[0m, in \u001b[1;35m<module>\u001b[0m\n    from metrician import MetricWriter,SimpleClf\n",
      "  File \u001b[1;32m\"/usr/local/lib/python3.7/dist-packages/metrician/__init__.py\"\u001b[0m, line \u001b[1;32m4\u001b[0m, in \u001b[1;35m<module>\u001b[0m\n    from .monitors import *\n",
      "\u001b[0;36m  File \u001b[0;32m\"/usr/local/lib/python3.7/dist-packages/metrician/monitors/__init__.py\"\u001b[0;36m, line \u001b[0;32m1\u001b[0;36m, in \u001b[0;35m<module>\u001b[0;36m\u001b[0m\n\u001b[0;31m    from .OOD import *\u001b[0m\n",
      "\u001b[0;36m  File \u001b[0;32m\"/usr/local/lib/python3.7/dist-packages/metrician/monitors/OOD.py\"\u001b[0;36m, line \u001b[0;32m23\u001b[0m\n\u001b[0;31m    def __init__(\u001b[0m\n\u001b[0m    ^\u001b[0m\n\u001b[0;31mIndentationError\u001b[0m\u001b[0;31m:\u001b[0m unexpected indent\n"
     ]
    }
   ],
   "source": [
    "# Load the TensorBoard notebook extension\n",
    "%load_ext tensorboard\n",
    "\n",
    "import torch\n",
    "from torch import nn,optim\n",
    "from utils import Dataset,injectOutliers,ClassificationModel as Model\n",
    "from metrician import MetricWriter,SimpleClf\n",
    "from tqdm import tqdm\n",
    "\n",
    "N_EPOCHS = 10\n",
    "\n",
    "dataset = Dataset().tabular_classification\n",
    "dataset = injectOutliers( dataset )\n",
    "model = Model( dataset.input_size, dataset.output_size )\n",
    "criterion = optim.SGD( model.parameters(),lr=.001 )\n",
    "mw = MetricWriter( SimpleClf() )\n",
    "loss_fn = nn.CrossEntropyLoss()"
   ]
  },
  {
   "cell_type": "code",
   "execution_count": null,
   "metadata": {},
   "outputs": [],
   "source": [
    "%tensorboard --logdir runs\n",
    "for e in range(N_EPOCHS):\n",
    "    for x,y in dataset:\n",
    "        criterion.zero_grad()\n",
    "        yhat = model( x )\n",
    "        loss = mw( y,yhat, loss_fn )\n",
    "        loss.backward()\n",
    "        criterion.step()"
   ]
  }
 ]
}